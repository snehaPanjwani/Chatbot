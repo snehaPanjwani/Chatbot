{
 "cells": [
  {
   "cell_type": "code",
   "execution_count": 1,
   "metadata": {},
   "outputs": [
    {
     "name": "stderr",
     "output_type": "stream",
     "text": [
      "[nltk_data] Downloading package punkt to\n",
      "[nltk_data]     C:\\Users\\Lenovo\\AppData\\Roaming\\nltk_data...\n",
      "[nltk_data]   Package punkt is already up-to-date!\n"
     ]
    },
    {
     "data": {
      "text/plain": [
       "True"
      ]
     },
     "execution_count": 1,
     "metadata": {},
     "output_type": "execute_result"
    }
   ],
   "source": [
    "import os\n",
    "import nltk\n",
    "import ssl\n",
    "import streamlit as st\n",
    "import random \n",
    "from sklearn.feature_extraction.text  import TfidfVectorizer\n",
    "from sklearn.linear_model import LogisticRegression\n",
    "\n",
    "ssl._create_default_https_context = ssl._create_unverified_context\n",
    "nltk.data.path.append(os.path.abspath(\"nltk_data\"))\n",
    "nltk.download('punkt')"
   ]
  },
  {
   "cell_type": "code",
   "execution_count": 3,
   "metadata": {},
   "outputs": [
    {
     "data": {
      "text/plain": [
       "{'intents': [{'tag': 'booking',\n",
       "   'patterns': ['I want to book a ticket',\n",
       "    'Can I reserve a spot?',\n",
       "    'Help me book tickets',\n",
       "    'I want to make a reservation'],\n",
       "   'responses': ['Sure, I can assist you with booking. Please provide the date and time you would like to visit.']},\n",
       "  {'tag': 'timing',\n",
       "   'patterns': ['What are the museum hours?',\n",
       "    'When does the museum open?',\n",
       "    'Tell me the timing of the museum'],\n",
       "   'responses': ['The museum is open from 9 AM to 7 PM daily.']},\n",
       "  {'tag': 'ticket_prices',\n",
       "   'patterns': ['How much are the tickets?',\n",
       "    'Tell me the ticket prices',\n",
       "    'What is the cost of a ticket?'],\n",
       "   'responses': ['The ticket prices are as follows: Adults: $20, Children: $10, Seniors: $15.']},\n",
       "  {'tag': 'location',\n",
       "   'patterns': ['Where is the museum located?',\n",
       "    'What is the address of the museum?',\n",
       "    'Tell me the location'],\n",
       "   'responses': ['The museum is located at 123 Museum Avenue, Cityville.']},\n",
       "  {'tag': 'fallback',\n",
       "   'patterns': ['',\n",
       "    'Can you help me?',\n",
       "    'I have a question',\n",
       "    'Tell me something'],\n",
       "   'responses': [\"I'm sorry, I didn't understand that. Could you please rephrase your query?\"]}]}"
      ]
     },
     "execution_count": 3,
     "metadata": {},
     "output_type": "execute_result"
    }
   ],
   "source": [
    "{\n",
    "  \"intents\": [\n",
    "    {\n",
    "      \"tag\": \"booking\",\n",
    "      \"patterns\": [\"I want to book a ticket\", \"Can I reserve a spot?\", \"Help me book tickets\", \"I want to make a reservation\"],\n",
    "      \"responses\": [\"Sure, I can assist you with booking. Please provide the date and time you would like to visit.\"]\n",
    "    },\n",
    "    {\n",
    "      \"tag\": \"timing\",\n",
    "      \"patterns\": [\"What are the museum hours?\", \"When does the museum open?\", \"Tell me the timing of the museum\"],\n",
    "      \"responses\": [\"The museum is open from 9 AM to 7 PM daily.\"]\n",
    "    },\n",
    "    {\n",
    "      \"tag\": \"ticket_prices\",\n",
    "      \"patterns\": [\"How much are the tickets?\", \"Tell me the ticket prices\", \"What is the cost of a ticket?\"],\n",
    "      \"responses\": [\"The ticket prices are as follows: Adults: $20, Children: $10, Seniors: $15.\"]\n",
    "    },\n",
    "    {\n",
    "      \"tag\": \"location\",\n",
    "      \"patterns\": [\"Where is the museum located?\", \"What is the address of the museum?\", \"Tell me the location\"],\n",
    "      \"responses\": [\"The museum is located at 123 Museum Avenue, Cityville.\"]\n",
    "    },\n",
    "    {\n",
    "      \"tag\": \"fallback\",\n",
    "      \"patterns\": [\"\", \"Can you help me?\", \"I have a question\", \"Tell me something\"],\n",
    "      \"responses\": [\"I'm sorry, I didn't understand that. Could you please rephrase your query?\"]\n",
    "    }\n",
    "  ]\n",
    "}\n"
   ]
  }
 ],
 "metadata": {
  "kernelspec": {
   "display_name": "base",
   "language": "python",
   "name": "python3"
  },
  "language_info": {
   "codemirror_mode": {
    "name": "ipython",
    "version": 3
   },
   "file_extension": ".py",
   "mimetype": "text/x-python",
   "name": "python",
   "nbconvert_exporter": "python",
   "pygments_lexer": "ipython3",
   "version": "3.11.7"
  }
 },
 "nbformat": 4,
 "nbformat_minor": 2
}
